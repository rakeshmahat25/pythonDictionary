{
 "cells": [
  {
   "cell_type": "markdown",
   "id": "2ed16e23",
   "metadata": {},
   "source": [
    "# Dictionary in Python"
   ]
  },
  {
   "cell_type": "code",
   "execution_count": 5,
   "id": "4f75759c",
   "metadata": {},
   "outputs": [],
   "source": [
    "my_dict ={\"A for\":\"apple\",\"B for\":\"Ball\", \"C for\":\"Cat\"}"
   ]
  },
  {
   "cell_type": "code",
   "execution_count": 6,
   "id": "9b5dd1d6",
   "metadata": {},
   "outputs": [
    {
     "data": {
      "text/plain": [
       "{'A for': 'apple', 'B for': 'Ball', 'C for': 'Cat'}"
      ]
     },
     "execution_count": 6,
     "metadata": {},
     "output_type": "execute_result"
    }
   ],
   "source": [
    "my_dict"
   ]
  },
  {
   "cell_type": "code",
   "execution_count": 7,
   "id": "2c114f7d",
   "metadata": {},
   "outputs": [
    {
     "data": {
      "text/plain": [
       "['__class__',\n",
       " '__class_getitem__',\n",
       " '__contains__',\n",
       " '__delattr__',\n",
       " '__delitem__',\n",
       " '__dir__',\n",
       " '__doc__',\n",
       " '__eq__',\n",
       " '__format__',\n",
       " '__ge__',\n",
       " '__getattribute__',\n",
       " '__getitem__',\n",
       " '__gt__',\n",
       " '__hash__',\n",
       " '__init__',\n",
       " '__init_subclass__',\n",
       " '__ior__',\n",
       " '__iter__',\n",
       " '__le__',\n",
       " '__len__',\n",
       " '__lt__',\n",
       " '__ne__',\n",
       " '__new__',\n",
       " '__or__',\n",
       " '__reduce__',\n",
       " '__reduce_ex__',\n",
       " '__repr__',\n",
       " '__reversed__',\n",
       " '__ror__',\n",
       " '__setattr__',\n",
       " '__setitem__',\n",
       " '__sizeof__',\n",
       " '__str__',\n",
       " '__subclasshook__',\n",
       " 'clear',\n",
       " 'copy',\n",
       " 'fromkeys',\n",
       " 'get',\n",
       " 'items',\n",
       " 'keys',\n",
       " 'pop',\n",
       " 'popitem',\n",
       " 'setdefault',\n",
       " 'update',\n",
       " 'values']"
      ]
     },
     "execution_count": 7,
     "metadata": {},
     "output_type": "execute_result"
    }
   ],
   "source": [
    "dir(my_dict)"
   ]
  },
  {
   "cell_type": "code",
   "execution_count": 8,
   "id": "c5449530",
   "metadata": {},
   "outputs": [
    {
     "name": "stdout",
     "output_type": "stream",
     "text": [
      "apple\n"
     ]
    }
   ],
   "source": [
    "print(my_dict[\"A for\"])"
   ]
  },
  {
   "cell_type": "code",
   "execution_count": 1,
   "id": "cdc0e786",
   "metadata": {},
   "outputs": [],
   "source": [
    "name = \"Ramesh\"\n",
    "age = 34\n",
    "address= \"Patan\""
   ]
  },
  {
   "cell_type": "code",
   "execution_count": 2,
   "id": "12295d30",
   "metadata": {},
   "outputs": [],
   "source": [
    "details ={\"Name\":\"Ramesh\", \"Age\":34, \"Address\":\"Patan\"}"
   ]
  },
  {
   "cell_type": "code",
   "execution_count": 4,
   "id": "6e7ab97d",
   "metadata": {},
   "outputs": [
    {
     "data": {
      "text/plain": [
       "'Ramesh'"
      ]
     },
     "execution_count": 4,
     "metadata": {},
     "output_type": "execute_result"
    }
   ],
   "source": [
    "details[\"Name\"]"
   ]
  },
  {
   "cell_type": "code",
   "execution_count": 14,
   "id": "6ef9e376",
   "metadata": {},
   "outputs": [
    {
     "data": {
      "text/plain": [
       "dict"
      ]
     },
     "execution_count": 14,
     "metadata": {},
     "output_type": "execute_result"
    }
   ],
   "source": [
    "type(details)"
   ]
  },
  {
   "cell_type": "code",
   "execution_count": 15,
   "id": "8f4d0261",
   "metadata": {},
   "outputs": [
    {
     "data": {
      "text/plain": [
       "int"
      ]
     },
     "execution_count": 15,
     "metadata": {},
     "output_type": "execute_result"
    }
   ],
   "source": [
    "type(details[\"Age\"])"
   ]
  },
  {
   "cell_type": "code",
   "execution_count": 18,
   "id": "ac9dce73",
   "metadata": {},
   "outputs": [],
   "source": [
    "details[\"subject\"] = \"Science, Maths, computer\""
   ]
  },
  {
   "cell_type": "code",
   "execution_count": 19,
   "id": "f1d2de9c",
   "metadata": {},
   "outputs": [
    {
     "data": {
      "text/plain": [
       "{'Name': 'Ramesh',\n",
       " 'Age': 34,\n",
       " 'Address': 'Patan',\n",
       " 'subject': 'Science, Maths, computer'}"
      ]
     },
     "execution_count": 19,
     "metadata": {},
     "output_type": "execute_result"
    }
   ],
   "source": [
    "details"
   ]
  },
  {
   "cell_type": "code",
   "execution_count": 51,
   "id": "deaf95b2",
   "metadata": {},
   "outputs": [],
   "source": [
    "details[\"subject\"] = [\"Science\", \"Maths\", \"computer\"]"
   ]
  },
  {
   "cell_type": "code",
   "execution_count": 25,
   "id": "0bfd01e4",
   "metadata": {},
   "outputs": [
    {
     "data": {
      "text/plain": [
       "{'Name': 'Ramesh',\n",
       " 'Age': 34,\n",
       " 'Address': 'Patan',\n",
       " 'subject': ['Science', 'Maths', 'computer']}"
      ]
     },
     "execution_count": 25,
     "metadata": {},
     "output_type": "execute_result"
    }
   ],
   "source": [
    "details\n",
    "# adding list in the dictionary as values"
   ]
  },
  {
   "cell_type": "code",
   "execution_count": 34,
   "id": "b7389648",
   "metadata": {},
   "outputs": [
    {
     "data": {
      "text/plain": [
       "list"
      ]
     },
     "execution_count": 34,
     "metadata": {},
     "output_type": "execute_result"
    }
   ],
   "source": [
    "type(details[\"subject\"])"
   ]
  },
  {
   "cell_type": "code",
   "execution_count": 35,
   "id": "cf6fe6c3",
   "metadata": {},
   "outputs": [
    {
     "data": {
      "text/plain": [
       "['Science', 'Maths', 'computer']"
      ]
     },
     "execution_count": 35,
     "metadata": {},
     "output_type": "execute_result"
    }
   ],
   "source": [
    "details[\"subject\"]"
   ]
  },
  {
   "cell_type": "code",
   "execution_count": 33,
   "id": "fe67e76b",
   "metadata": {},
   "outputs": [
    {
     "data": {
      "text/plain": [
       "'Patan'"
      ]
     },
     "execution_count": 33,
     "metadata": {},
     "output_type": "execute_result"
    }
   ],
   "source": [
    "details.get(\"Address\")"
   ]
  },
  {
   "cell_type": "code",
   "execution_count": 37,
   "id": "d46e8923",
   "metadata": {},
   "outputs": [
    {
     "data": {
      "text/plain": [
       "{'Name': 'Ramesh',\n",
       " 'Age': 34,\n",
       " 'Address': 'Patan',\n",
       " 'subject': ['Science', 'Maths', 'computer', 'Social', 'Social']}"
      ]
     },
     "execution_count": 37,
     "metadata": {},
     "output_type": "execute_result"
    }
   ],
   "source": [
    "details[\"subject\"].append(\"Social\")\n",
    "details"
   ]
  },
  {
   "cell_type": "markdown",
   "id": "6df35dbc",
   "metadata": {},
   "source": [
    "### NOTE: use big bracket for values in dict and small bracket to USE the function"
   ]
  },
  {
   "cell_type": "markdown",
   "id": "77fce7ff",
   "metadata": {},
   "source": [
    "# only to extract keys of dictionary"
   ]
  },
  {
   "cell_type": "code",
   "execution_count": 38,
   "id": "ef352de1",
   "metadata": {},
   "outputs": [
    {
     "name": "stdout",
     "output_type": "stream",
     "text": [
      "dict_keys(['Name', 'Age', 'Address', 'subject'])\n"
     ]
    }
   ],
   "source": [
    "\n",
    "print(details.keys())  #"
   ]
  },
  {
   "cell_type": "markdown",
   "id": "3bcee593",
   "metadata": {},
   "source": [
    "# only to extract Values"
   ]
  },
  {
   "cell_type": "code",
   "execution_count": 39,
   "id": "5aa89d82",
   "metadata": {},
   "outputs": [
    {
     "name": "stdout",
     "output_type": "stream",
     "text": [
      "dict_values(['Ramesh', 34, 'Patan', ['Science', 'Maths', 'computer', 'Social', 'Social']])\n"
     ]
    }
   ],
   "source": [
    "print(details.values())"
   ]
  },
  {
   "cell_type": "code",
   "execution_count": 49,
   "id": "809cf741",
   "metadata": {},
   "outputs": [
    {
     "name": "stdout",
     "output_type": "stream",
     "text": [
      "Patan\n"
     ]
    }
   ],
   "source": [
    "print(details.pop(\"Address\"))"
   ]
  },
  {
   "cell_type": "code",
   "execution_count": null,
   "id": "c7976db0",
   "metadata": {},
   "outputs": [],
   "source": []
  },
  {
   "cell_type": "code",
   "execution_count": 27,
   "id": "1498ff4e",
   "metadata": {},
   "outputs": [
    {
     "data": {
      "text/plain": [
       "['__class__',\n",
       " '__class_getitem__',\n",
       " '__contains__',\n",
       " '__delattr__',\n",
       " '__delitem__',\n",
       " '__dir__',\n",
       " '__doc__',\n",
       " '__eq__',\n",
       " '__format__',\n",
       " '__ge__',\n",
       " '__getattribute__',\n",
       " '__getitem__',\n",
       " '__gt__',\n",
       " '__hash__',\n",
       " '__init__',\n",
       " '__init_subclass__',\n",
       " '__ior__',\n",
       " '__iter__',\n",
       " '__le__',\n",
       " '__len__',\n",
       " '__lt__',\n",
       " '__ne__',\n",
       " '__new__',\n",
       " '__or__',\n",
       " '__reduce__',\n",
       " '__reduce_ex__',\n",
       " '__repr__',\n",
       " '__reversed__',\n",
       " '__ror__',\n",
       " '__setattr__',\n",
       " '__setitem__',\n",
       " '__sizeof__',\n",
       " '__str__',\n",
       " '__subclasshook__',\n",
       " 'clear',\n",
       " 'copy',\n",
       " 'fromkeys',\n",
       " 'get',\n",
       " 'items',\n",
       " 'keys',\n",
       " 'pop',\n",
       " 'popitem',\n",
       " 'setdefault',\n",
       " 'update',\n",
       " 'values']"
      ]
     },
     "execution_count": 27,
     "metadata": {},
     "output_type": "execute_result"
    }
   ],
   "source": [
    "dir(details)"
   ]
  },
  {
   "cell_type": "markdown",
   "id": "dd6b7652",
   "metadata": {},
   "source": [
    "# pop / remove the key and values"
   ]
  },
  {
   "cell_type": "code",
   "execution_count": 46,
   "id": "5cb95072",
   "metadata": {},
   "outputs": [
    {
     "name": "stdout",
     "output_type": "stream",
     "text": [
      "{'Name': 'Ramesh', 'Age': 34, 'Address': 'Patan', 'subject': ['Science', 'Maths', 'computer', 'Social', 'Social']}\n"
     ]
    }
   ],
   "source": [
    "print(details)"
   ]
  },
  {
   "cell_type": "code",
   "execution_count": 52,
   "id": "4b2b083e",
   "metadata": {},
   "outputs": [
    {
     "name": "stdout",
     "output_type": "stream",
     "text": [
      "{'Name': 'Ramesh', 'Age': 34, 'subject': ['Science', 'Maths', 'computer']}\n"
     ]
    }
   ],
   "source": [
    "print(details)"
   ]
  },
  {
   "cell_type": "code",
   "execution_count": 55,
   "id": "2d50ac0d",
   "metadata": {},
   "outputs": [
    {
     "ename": "SyntaxError",
     "evalue": "cannot assign to function call (Temp/ipykernel_14196/3243489117.py, line 1)",
     "output_type": "error",
     "traceback": [
      "\u001b[1;36m  File \u001b[1;32m\"C:\\Users\\rakes\\AppData\\Local\\Temp/ipykernel_14196/3243489117.py\"\u001b[1;36m, line \u001b[1;32m1\u001b[0m\n\u001b[1;33m    details.update(\"Age\")=40\u001b[0m\n\u001b[1;37m    ^\u001b[0m\n\u001b[1;31mSyntaxError\u001b[0m\u001b[1;31m:\u001b[0m cannot assign to function call\n"
     ]
    }
   ],
   "source": [
    "details.update(\"Age\")=40"
   ]
  },
  {
   "cell_type": "markdown",
   "id": "639a5996",
   "metadata": {},
   "source": [
    "# "
   ]
  },
  {
   "cell_type": "code",
   "execution_count": 56,
   "id": "667486ef",
   "metadata": {},
   "outputs": [],
   "source": [
    "# 1. Create a List named \"datatypes\" with the values \"integer\", \"strings\" and \"floats\" present in it."
   ]
  },
  {
   "cell_type": "code",
   "execution_count": 57,
   "id": "4206e5fa",
   "metadata": {},
   "outputs": [],
   "source": [
    "datatypes = [55, \"Bhuwan\",4.6, \"hello\"]"
   ]
  },
  {
   "cell_type": "code",
   "execution_count": 59,
   "id": "1f615ae1",
   "metadata": {},
   "outputs": [
    {
     "name": "stdout",
     "output_type": "stream",
     "text": [
      "[55, 'Bhuwan', 4.6, 'hello']\n"
     ]
    }
   ],
   "source": [
    "print(datatypes)"
   ]
  },
  {
   "cell_type": "code",
   "execution_count": 63,
   "id": "7280a584",
   "metadata": {},
   "outputs": [],
   "source": [
    "# 2. Create an empty list named \"asianCountries\" and using the `.append()` method of \n",
    "# the list, add some countried to the list."
   ]
  },
  {
   "cell_type": "code",
   "execution_count": 87,
   "id": "b356bcf0",
   "metadata": {},
   "outputs": [],
   "source": [
    "asianCountries =[]\n"
   ]
  },
  {
   "cell_type": "code",
   "execution_count": 82,
   "id": "43805dd1",
   "metadata": {},
   "outputs": [
    {
     "data": {
      "text/plain": [
       "[]"
      ]
     },
     "execution_count": 82,
     "metadata": {},
     "output_type": "execute_result"
    }
   ],
   "source": [
    "asianCountries"
   ]
  },
  {
   "cell_type": "code",
   "execution_count": 88,
   "id": "7f71ef35",
   "metadata": {},
   "outputs": [],
   "source": [
    "asianCountries.append([\"Nepal\",\"India\",\"Bhutan\"])"
   ]
  },
  {
   "cell_type": "code",
   "execution_count": 84,
   "id": "0394f0af",
   "metadata": {},
   "outputs": [
    {
     "data": {
      "text/plain": [
       "[['Nepal', 'India', 'Bhutan']]"
      ]
     },
     "execution_count": 84,
     "metadata": {},
     "output_type": "execute_result"
    }
   ],
   "source": [
    "asianCountries"
   ]
  },
  {
   "cell_type": "code",
   "execution_count": 89,
   "id": "94e2e26f",
   "metadata": {},
   "outputs": [],
   "source": [
    "# extend\n",
    "asianCountries1 =[\"Pakistan\",\"Bangadesh\",\"China\"]\n",
    "asianCountries1.extend(asianCountries)"
   ]
  },
  {
   "cell_type": "code",
   "execution_count": 90,
   "id": "08b7e5ea",
   "metadata": {},
   "outputs": [
    {
     "data": {
      "text/plain": [
       "['Pakistan', 'Bangadesh', 'China', ['Nepal', 'India', 'Bhutan']]"
      ]
     },
     "execution_count": 90,
     "metadata": {},
     "output_type": "execute_result"
    }
   ],
   "source": [
    "asianCountries1"
   ]
  },
  {
   "cell_type": "code",
   "execution_count": 91,
   "id": "6f872c1b",
   "metadata": {},
   "outputs": [],
   "source": [
    "#3. From the list \"asianCountries\", remove the first two items."
   ]
  },
  {
   "cell_type": "code",
   "execution_count": 92,
   "id": "3a20013d",
   "metadata": {},
   "outputs": [
    {
     "data": {
      "text/plain": [
       "['Nepal', 'India', 'Bhutan']"
      ]
     },
     "execution_count": 92,
     "metadata": {},
     "output_type": "execute_result"
    }
   ],
   "source": [
    "asianCountries.pop(0)"
   ]
  },
  {
   "cell_type": "code",
   "execution_count": 93,
   "id": "bfeeb7b7",
   "metadata": {},
   "outputs": [
    {
     "data": {
      "text/plain": [
       "[]"
      ]
     },
     "execution_count": 93,
     "metadata": {},
     "output_type": "execute_result"
    }
   ],
   "source": [
    "asianCountries"
   ]
  },
  {
   "cell_type": "code",
   "execution_count": 94,
   "id": "e63118d4",
   "metadata": {},
   "outputs": [
    {
     "data": {
      "text/plain": [
       "'Pakistan'"
      ]
     },
     "execution_count": 94,
     "metadata": {},
     "output_type": "execute_result"
    }
   ],
   "source": [
    "asianCountries1.pop(0)"
   ]
  },
  {
   "cell_type": "code",
   "execution_count": 95,
   "id": "b086389f",
   "metadata": {},
   "outputs": [
    {
     "data": {
      "text/plain": [
       "'Bangadesh'"
      ]
     },
     "execution_count": 95,
     "metadata": {},
     "output_type": "execute_result"
    }
   ],
   "source": [
    "asianCountries1.pop(0)"
   ]
  },
  {
   "cell_type": "code",
   "execution_count": 96,
   "id": "601274f1",
   "metadata": {},
   "outputs": [
    {
     "data": {
      "text/plain": [
       "['China', ['Nepal', 'India', 'Bhutan']]"
      ]
     },
     "execution_count": 96,
     "metadata": {},
     "output_type": "execute_result"
    }
   ],
   "source": [
    "asianCountries1"
   ]
  },
  {
   "cell_type": "code",
   "execution_count": 97,
   "id": "b197e93a",
   "metadata": {},
   "outputs": [],
   "source": [
    "# 4. Create a dictionary named \"priceMobile\" and add \"samsung\", \"mi\" and \"apple\" as keys and \"high\", \"medium\" and \"high\"."
   ]
  },
  {
   "cell_type": "code",
   "execution_count": 108,
   "id": "13149330",
   "metadata": {},
   "outputs": [
    {
     "data": {
      "text/plain": [
       "{'Samsung': 'HIgh', 'MI': 'Medium', 'Apple': 'High'}"
      ]
     },
     "execution_count": 108,
     "metadata": {},
     "output_type": "execute_result"
    }
   ],
   "source": [
    "priceMobile ={\"Samsung\":\"HIgh\", \"MI\":\"Medium\", \"Apple\":\"High\"}\n",
    "priceMobile"
   ]
  },
  {
   "cell_type": "code",
   "execution_count": null,
   "id": "9371ac40",
   "metadata": {},
   "outputs": [],
   "source": [
    "# 5. Add another key \"Oppo\" to the dictionary with value \"medium\"."
   ]
  },
  {
   "cell_type": "code",
   "execution_count": 109,
   "id": "64f5ab41",
   "metadata": {},
   "outputs": [],
   "source": [
    "priceMobile[\"Oppo\"]=\"Medium\""
   ]
  },
  {
   "cell_type": "code",
   "execution_count": 110,
   "id": "51746494",
   "metadata": {},
   "outputs": [
    {
     "data": {
      "text/plain": [
       "{'Samsung': 'HIgh', 'MI': 'Medium', 'Apple': 'High', 'Oppo': 'Medium'}"
      ]
     },
     "execution_count": 110,
     "metadata": {},
     "output_type": "execute_result"
    }
   ],
   "source": [
    "priceMobile"
   ]
  },
  {
   "cell_type": "code",
   "execution_count": 105,
   "id": "7149b4bd",
   "metadata": {},
   "outputs": [],
   "source": [
    "# 6. Remove the key \"apple\" from the dictionary."
   ]
  },
  {
   "cell_type": "code",
   "execution_count": 111,
   "id": "3b69b46f",
   "metadata": {},
   "outputs": [
    {
     "data": {
      "text/plain": [
       "'High'"
      ]
     },
     "execution_count": 111,
     "metadata": {},
     "output_type": "execute_result"
    }
   ],
   "source": [
    "priceMobile.pop(\"Apple\")"
   ]
  },
  {
   "cell_type": "code",
   "execution_count": 112,
   "id": "727c5add",
   "metadata": {},
   "outputs": [
    {
     "data": {
      "text/plain": [
       "{'Samsung': 'HIgh', 'MI': 'Medium', 'Oppo': 'Medium'}"
      ]
     },
     "execution_count": 112,
     "metadata": {},
     "output_type": "execute_result"
    }
   ],
   "source": [
    "priceMobile"
   ]
  },
  {
   "cell_type": "code",
   "execution_count": null,
   "id": "66b35ff8",
   "metadata": {},
   "outputs": [],
   "source": []
  }
 ],
 "metadata": {
  "kernelspec": {
   "display_name": "Python 3 (ipykernel)",
   "language": "python",
   "name": "python3"
  },
  "language_info": {
   "codemirror_mode": {
    "name": "ipython",
    "version": 3
   },
   "file_extension": ".py",
   "mimetype": "text/x-python",
   "name": "python",
   "nbconvert_exporter": "python",
   "pygments_lexer": "ipython3",
   "version": "3.9.7"
  }
 },
 "nbformat": 4,
 "nbformat_minor": 5
}
